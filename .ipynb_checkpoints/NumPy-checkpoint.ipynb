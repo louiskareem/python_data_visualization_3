{
 "cells": [
  {
   "cell_type": "code",
   "execution_count": 1,
   "metadata": {},
   "outputs": [],
   "source": [
    "from matplotlib import pyplot as plt"
   ]
  },
  {
   "cell_type": "code",
   "execution_count": 3,
   "metadata": {},
   "outputs": [],
   "source": [
    "import numpy as np"
   ]
  },
  {
   "cell_type": "code",
   "execution_count": 19,
   "metadata": {},
   "outputs": [],
   "source": [
    "import time"
   ]
  },
  {
   "cell_type": "code",
   "execution_count": 53,
   "metadata": {},
   "outputs": [],
   "source": [
    "from math import pi"
   ]
  },
  {
   "cell_type": "code",
   "execution_count": 20,
   "metadata": {},
   "outputs": [
    {
     "name": "stdout",
     "output_type": "stream",
     "text": [
      "[[1 2]\n",
      " [3 4]\n",
      " [5 6]\n",
      " [7 8]]\n"
     ]
    }
   ],
   "source": [
    "arr = np.array([ [1,2,3,4],[5,6,7,8] ])\n",
    "arr.shape = (4,2)\n",
    "\n",
    "# print(arr[1,3])\n",
    "# print(arr.dtype)\n",
    "# print(type(arr))\n",
    "# print(arr.shape)\n",
    "print(arr)"
   ]
  },
  {
   "cell_type": "code",
   "execution_count": 42,
   "metadata": {},
   "outputs": [
    {
     "name": "stdout",
     "output_type": "stream",
     "text": [
      "284.009521484375\n",
      "Time taken by list = 284.009521484375 ms\n"
     ]
    }
   ],
   "source": [
    "list = [0] * 2000000\n",
    "t1 = time.time() * 1000\n",
    "for i in range(0, len(list)):\n",
    "    list[i] += 2\n",
    "t1 = time.time() * 1000 - t1\n",
    "t1 = str(t1)\n",
    "\n",
    "print(t1)\n",
    "print('Time taken by list = ' + t1 + ' ms')"
   ]
  },
  {
   "cell_type": "code",
   "execution_count": 41,
   "metadata": {},
   "outputs": [
    {
     "name": "stdout",
     "output_type": "stream",
     "text": [
      "Time taken by NumPy array = 7.986083984375 ms\n"
     ]
    }
   ],
   "source": [
    "list = [0] * 2000000\n",
    "List2 = np.array(list)\n",
    "t2 = time.time() * 1000\n",
    "List2 = List2 + 2\n",
    "t2 = time.time() * 1000 - t2\n",
    "t2 = str(t2)\n",
    "\n",
    "print('Time taken by NumPy array = ' + t2 + ' ms')"
   ]
  },
  {
   "cell_type": "code",
   "execution_count": 50,
   "metadata": {},
   "outputs": [
    {
     "name": "stdout",
     "output_type": "stream",
     "text": [
      "[1 1 4 5 6 5 3 8 5 3 3 2 0 9 7 5 2 2 1 1]\n"
     ]
    }
   ],
   "source": [
    "# arr = np.random.randn(10)\n",
    "arr = np.random.randint(0, 10, 20)\n",
    "print(arr)"
   ]
  },
  {
   "cell_type": "code",
   "execution_count": 52,
   "metadata": {},
   "outputs": [
    {
     "name": "stdout",
     "output_type": "stream",
     "text": [
      "[-0.2555411   0.93203909  0.31154136 -0.70554033]\n"
     ]
    }
   ],
   "source": [
    "x = np.array([3.4, 1.2, 6.6, 5.5])\n",
    "print(np.sin(x))"
   ]
  },
  {
   "cell_type": "code",
   "execution_count": 60,
   "metadata": {},
   "outputs": [
    {
     "data": {
      "image/png": "[encoded data removed]",
      "text/plain": [
       "<Figure size 432x288 with 1 Axes>"
      ]
     },
     "metadata": {
      "needs_background": "light"
     },
     "output_type": "display_data"
    },
    {
     "name": "stdout",
     "output_type": "stream",
     "text": [
      "[-6.28318531 -6.02672876 -5.77027222 -5.51381568 -5.25735913 -5.00090259\n",
      " -4.74444605 -4.48798951 -4.23153296 -3.97507642 -3.71861988 -3.46216333\n",
      " -3.20570679 -2.94925025 -2.6927937  -2.43633716 -2.17988062 -1.92342407\n",
      " -1.66696753 -1.41051099 -1.15405444 -0.8975979  -0.64114136 -0.38468481\n",
      " -0.12822827  0.12822827  0.38468481  0.64114136  0.8975979   1.15405444\n",
      "  1.41051099  1.66696753  1.92342407  2.17988062  2.43633716  2.6927937\n",
      "  2.94925025  3.20570679  3.46216333  3.71861988  3.97507642  4.23153296\n",
      "  4.48798951  4.74444605  5.00090259  5.25735913  5.51381568  5.77027222\n",
      "  6.02672876  6.28318531]\n"
     ]
    }
   ],
   "source": [
    "x = np.linspace(-2 * pi, 2 * pi, 50) # retstep = True, returns difference between two consecutive numbers\n",
    "fx = np.sin(x)\n",
    "\n",
    "# plt.plot(x, fx)\n",
    "plt.scatter(x, fx, linewidth = .1)\n",
    "plt.show()\n",
    "print(x)"
   ]
  }
 ],
 "metadata": {
  "kernelspec": {
   "display_name": "Python 3",
   "language": "python",
   "name": "python3"
  },
  "language_info": {
   "codemirror_mode": {
    "name": "ipython",
    "version": 3
   },
   "file_extension": ".py",
   "mimetype": "text/x-python",
   "name": "python",
   "nbconvert_exporter": "python",
   "pygments_lexer": "ipython3",
   "version": "3.7.1"
  }
 },
 "nbformat": 4,
 "nbformat_minor": 2
}
